{
 "cells": [
  {
   "cell_type": "code",
   "execution_count": 1,
   "metadata": {},
   "outputs": [
    {
     "name": "stdout",
     "output_type": "stream",
     "text": [
      "https://www.southwest.com/air/booking/select-depart.html?adultPassengersCount=1&adultsCount=1&departureDate=2024-04-22&departureTimeOfDay=ALL_DAY&destinationAirportCode=DAL&fareType=USD&from=SAN&int=HOMEQBOMAIR&originationAirportCode=SAN&passengerType=ADULT&reset=true&returnDate=&returnTimeOfDay=ALL_DAY&to=DAL&tripType=oneway\n"
     ]
    }
   ],
   "source": [
    "from scrape import construct_url\n",
    "event = {\n",
    "    \"departure_date\": \"2024-04-22\",\n",
    "    \"origination\": \"SAN\",\n",
    "    \"destination\": \"DAL\",\n",
    "    \"passenger_count\": 1,\n",
    "    \"adult_count\": 1\n",
    "}\n",
    "url = construct_url(event)\n",
    "print(url)\n"
   ]
  },
  {
   "cell_type": "code",
   "execution_count": 2,
   "metadata": {},
   "outputs": [],
   "source": [
    "from scrape import extract_html\n",
    "import asyncio\n",
    "import nest_asyncio\n",
    "nest_asyncio.apply()\n",
    "\n",
    "html = asyncio.get_event_loop().run_until_complete(extract_html(url))"
   ]
  },
  {
   "cell_type": "code",
   "execution_count": 3,
   "metadata": {},
   "outputs": [],
   "source": [
    "from bs4 import BeautifulSoup\n",
    "\n",
    "# Initialize HTML parser\n",
    "soup = BeautifulSoup(html, \"html.parser\")\n",
    "\n",
    "# Parse each flight in the HTML\n",
    "flight_html_list = soup.find('ul', {\"id\": \"air-search-results-matrix-0\"}).find_all('li')"
   ]
  },
  {
   "cell_type": "code",
   "execution_count": 6,
   "metadata": {},
   "outputs": [
    {
     "name": "stdout",
     "output_type": "stream",
     "text": [
      "############### Flight Number: # 4769 ############### \n",
      "Fastest: False\n",
      "Number of Stops: Nonstop\n",
      "Change Planes: N/A\n",
      "Departure Time: Departs 5:25PM\n",
      "Arrival Time: Arrives 10:20PM\n",
      "Duration: 2h 55m\n",
      "Prices:\n",
      "\tBusiness Select: $316 Dollars (N/A)\n",
      "\tAnytime: $266 Dollars (N/A)\n",
      "\tWanna Get Away Plus: $206 Dollars (N/A)\n",
      "\tWanna Get Away: $186 Dollars (N/A)\n",
      "\n",
      "\n",
      "\n"
     ]
    }
   ],
   "source": [
    "from scrape import Flight\n",
    "\n",
    "flight = Flight(\n",
    "        event['departure_date'],\n",
    "        event['origination'],\n",
    "        event['destination'],\n",
    "        event['passenger_count'],\n",
    "        event['adult_count'],\n",
    "        flight_html_list[-1]\n",
    ")\n",
    "print(flight)"
   ]
  },
  {
   "cell_type": "code",
   "execution_count": 12,
   "metadata": {},
   "outputs": [
    {
     "data": {
      "text/plain": [
       "<span aria-label=\", this is the Fastest flight\" class=\"select-detail--fastest-fare-badge\">Fastest</span>"
      ]
     },
     "execution_count": 12,
     "metadata": {},
     "output_type": "execute_result"
    }
   ],
   "source": [
    "flight_html_list[-1].find(\"div\", {'class': 'select-detail--indicators'}).find('span', {'class': 'select-detail--fastest-fare-badge'})"
   ]
  }
 ],
 "metadata": {
  "kernelspec": {
   "display_name": ".venv",
   "language": "python",
   "name": "python3"
  },
  "language_info": {
   "codemirror_mode": {
    "name": "ipython",
    "version": 3
   },
   "file_extension": ".py",
   "mimetype": "text/x-python",
   "name": "python",
   "nbconvert_exporter": "python",
   "pygments_lexer": "ipython3",
   "version": "3.11.5"
  }
 },
 "nbformat": 4,
 "nbformat_minor": 2
}
